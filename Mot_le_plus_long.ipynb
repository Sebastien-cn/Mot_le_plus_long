{
 "cells": [
  {
   "cell_type": "markdown",
   "id": "69c7535e",
   "metadata": {},
   "source": [
    "- Nom: CNIGNIET\n",
    "- Prénom: Sébastien\n",
    "- N°étudiant: 23001930\n",
    "- Date: 13/11/2023"
   ]
  },
  {
   "cell_type": "markdown",
   "id": "8bff5722",
   "metadata": {},
   "source": [
    "Sujet : étant données n lettres (ex n <= 8), proposer un algorithme permettant de trouver\n",
    "le mot le plus long (appartenant au lexique) pouvant être écrit avec ces lettres.\n",
    "\n",
    "Programmer l’algorithme proposé précédemment.\n",
    "\n",
    "Comme liste de mots de la langue française nous utiliserons le fichier\n",
    "frenchssaccent.dic."
   ]
  },
  {
   "cell_type": "code",
   "execution_count": null,
   "id": "3f94dc0e",
   "metadata": {},
   "outputs": [],
   "source": [
    "# Importation des bibliothèques\n",
    "import re\n",
    "import os"
   ]
  },
  {
   "cell_type": "markdown",
   "id": "83aeeaad",
   "metadata": {},
   "source": [
    "Fonction qui demande à l'utilisateur combien de lettres il veut saisir avec un contrôle de la saisie."
   ]
  },
  {
   "cell_type": "code",
   "execution_count": null,
   "id": "c06d5e3c",
   "metadata": {},
   "outputs": [],
   "source": [
    "def demandeNombreDeLettres(message):\n",
    "    \"\"\"\n",
    "    argument:\n",
    "    message - demande à l'utilisateur combien de lettres il veut saisir.\n",
    "    \n",
    "    Contrôle de la saisie - impose la saisie d'une valeur numérique.\n",
    "    \n",
    "    return nbLettres.\n",
    "    \"\"\"\n",
    "    try:\n",
    "        nbLettres = int(input(message))\n",
    "    except:\n",
    "        print(\"Saisissez une valeur numérique ! \")\n",
    "        demandeNombreDeLettres(message)\n",
    "    return nbLettres"
   ]
  },
  {
   "cell_type": "markdown",
   "id": "a696dd3c",
   "metadata": {},
   "source": [
    "Fonction qui demande à l'utilisateur de saisir les lettres souhaitées."
   ]
  },
  {
   "cell_type": "code",
   "execution_count": null,
   "id": "8581ebcc",
   "metadata": {},
   "outputs": [],
   "source": [
    "def demande(message):\n",
    "    \"\"\"\n",
    "    Argument:\n",
    "    message - demande à l'utilisateur de saisir une lettre.\n",
    "    \n",
    "    return demande.\n",
    "    \"\"\"\n",
    "    demande = input(message)        \n",
    "    return demande"
   ]
  },
  {
   "cell_type": "markdown",
   "id": "12d8695f",
   "metadata": {},
   "source": [
    "Fonction qui demande à l'utilisateur de choisir entre le choix N°1 et le N°2 avec contôle de la saisie."
   ]
  },
  {
   "cell_type": "code",
   "execution_count": null,
   "id": "18968f3d",
   "metadata": {},
   "outputs": [],
   "source": [
    "def choixOutil(message):\n",
    "    \"\"\"\n",
    "    Argument:\n",
    "    message - demande à l'utilisateur de saisir le choix souhaité entre le choix 1 et le choix 2.\n",
    "    \n",
    "    Contrôle de saisie - impose la saisie d'une valeur numérique.\n",
    "    \n",
    "    test - si la valeur saisie est correcte (1 ou 2).\n",
    "    \n",
    "    return - choix.\n",
    "    \n",
    "    \"\"\"\n",
    "    try:\n",
    "        choix = int(input(message))\n",
    "        test (choix)\n",
    "    except:\n",
    "        print (\"Saisissez une valeur numérique comprise entre 1 et 2 !\")\n",
    "        choix = choixOutil(message)\n",
    "        \n",
    "    return choix"
   ]
  },
  {
   "cell_type": "markdown",
   "id": "5d6d339d",
   "metadata": {},
   "source": [
    "Fonction qui vérifie que les valeurs saisies dans la variable choix de la fonction choixOutil() sont égale à 1 ou 2."
   ]
  },
  {
   "cell_type": "code",
   "execution_count": null,
   "id": "c6b9d2de",
   "metadata": {},
   "outputs": [],
   "source": [
    "def test (nb):\n",
    "    \"\"\"\n",
    "    Argument:    \n",
    "    nb - valeur reprise de la fontion choixOutil().\n",
    "    \n",
    "    Relance la fonction choixOutil si la valeur de nb est différente de 1 ou 2.    \n",
    "    \"\"\"\n",
    "    while nb != 1 and nb != 2:        \n",
    "        nb = choixOutil(\"Souhaitez vous utiliser la liste de l'exemple ou le fichier frenchssaccent.dic?\")"
   ]
  },
  {
   "cell_type": "markdown",
   "id": "c662d695",
   "metadata": {},
   "source": [
    "Fonction pour rechercher le chmein afin accèder au fichier frenchssaccent.dic"
   ]
  },
  {
   "cell_type": "code",
   "execution_count": null,
   "id": "53da6e4e",
   "metadata": {},
   "outputs": [],
   "source": [
    "def findFile(nom, chemin):    \n",
    "    \"\"\"\n",
    "    Arguments:    \n",
    "    nom - le nom du fichier à rechercher.\n",
    "    chemin - l'endroit de démarrage de la recherche.\n",
    "    \n",
    "    return - le chemin complet + le nom du ficher.\n",
    "    \"\"\"\n",
    "    for dirchemin, dirNom,fileNom in os.walk(chemin):\n",
    "        if nom in fileNom:\n",
    "            return os.path.join(dirchemin, nom)\n",
    "            "
   ]
  },
  {
   "cell_type": "markdown",
   "id": "832c8cb0",
   "metadata": {},
   "source": [
    "Fonction qui permet d'ouvrir le fichier demandé."
   ]
  },
  {
   "cell_type": "code",
   "execution_count": null,
   "id": "09c03b75",
   "metadata": {},
   "outputs": [],
   "source": [
    "def ouvertureFichier(nom):  \n",
    "    \"\"\"\n",
    "    Argument:\n",
    "    nom - le nom du fichier à ouvrir\n",
    "    \n",
    "    return - fp\n",
    "    \"\"\"\n",
    "    fp = open(nom)    \n",
    "    return fp"
   ]
  },
  {
   "cell_type": "markdown",
   "id": "288f63c2",
   "metadata": {},
   "source": [
    "Fonction qui ouvre le fichier demandé ou qui le recherche puis l'ouvre.\n",
    "\n",
    "Si le fichier n'existe pas l'application demande à l'utilisateur de vérifier si le fichier à été téléchargé"
   ]
  },
  {
   "cell_type": "code",
   "execution_count": null,
   "id": "a0f3b2a8",
   "metadata": {},
   "outputs": [],
   "source": [
    "def  ouvertureOuRechercheFichier(fichier):\n",
    "    \"\"\"\n",
    "    Argument:\n",
    "    fichier - le nom du fichier à ouvrir\n",
    "    \n",
    "    Test si le fichier à ouvrir (frenchssaccent.dic) est dans le même dossier que l'application, si non l'application effectue une recherche de ce fichier.\n",
    "    Si le fichier n'existe pas, elle demande à l'utilisateur de vérifier que le fichier à bien été téléchargé.\n",
    "    \n",
    "    return fp\n",
    "    \"\"\"\n",
    "    try:\n",
    "        fp = ouvertureFichier(fichier)\n",
    "    except :\n",
    "        print(\"Veuiller patienter pendant que nous recherchons le fichier frenchssaccent.dic!\")\n",
    "        adresse = findFile(fichier,\"/\") \n",
    "        try:            \n",
    "            fp = ouvertureFichier(adresse)\n",
    "        except:\n",
    "            return print(\"le temps est écouler vérifier que le ficher frenchssaccent.dic à bien été téléchargé ! \")\n",
    "            \n",
    "    return fp\n"
   ]
  },
  {
   "cell_type": "markdown",
   "id": "d04883b6",
   "metadata": {},
   "source": [
    "Fonction qui verrifie l'appartenance des lettres d'un mot par apport à la liste copieTirage. "
   ]
  },
  {
   "cell_type": "code",
   "execution_count": null,
   "id": "dadf4e33",
   "metadata": {},
   "outputs": [],
   "source": [
    "def decomposition(lettre,list):\n",
    "    \"\"\"\n",
    "    Argument:\n",
    "    lettre - les lettres de la variable motTest une à une.\n",
    "    list - reprend les données ajoutées dans copieTirage.\n",
    "    \n",
    "    return True si la lettre ce trouve dans la liste copieTirage.\n",
    "    \"\"\"\n",
    "       \n",
    "    return lettre in list"
   ]
  },
  {
   "cell_type": "markdown",
   "id": "f5f7595a",
   "metadata": {},
   "source": [
    "Fonction qui recherche le mot le plus long de la liste frenchssaccent."
   ]
  },
  {
   "cell_type": "code",
   "execution_count": null,
   "id": "f0fa9a7d",
   "metadata": {},
   "outputs": [],
   "source": [
    "def rechercheMotLePlusLong(frenchssaccent):\n",
    "    \"\"\"\n",
    "    Argument:\n",
    "    frenchssaccent - les mots contenu dans la liste frenchssaccent.\n",
    "    \n",
    "    return - le mot le plus long dans la liste motsPossibles qui est tiré de la liste frenchssaccent.\n",
    "    \"\"\"\n",
    "    motTest = []\n",
    "    copieTirage = []\n",
    "    motsPossibles = []\n",
    "    motsPossibles.clear()\n",
    "    # Boucle prend les mots de la liste frenchssaccent un par un.\n",
    "    for k in range (len (frenchssaccent)):\n",
    "        countLettre=0\n",
    "        i = 0\n",
    "        # Transforme le k ème mot de la liste frenchssaccent en liste de lettre dans la liste motTest.\n",
    "        motTest = list(frenchssaccent[k])\n",
    "        copieTirage = list(tirage)\n",
    "        # Test si les lettres de la liste motTest ce trouve dans la liste copieTirage.\n",
    "        for i in range (len (motTest)):\n",
    "            if decomposition(motTest[i],copieTirage) == True:\n",
    "                copieTirage.remove(motTest[i])\n",
    "                countLettre +=1\n",
    "                # Vérifie si nous avons testé toutes les lettres de motTest et si elle ce trouve toutes dans laliste copieTirage,\n",
    "                # alors on ajoute le k ème mots de la liste frenchssaccent dans la liste motsPossibles.\n",
    "                if countLettre == len(motTest):\n",
    "                      motsPossibles.append(frenchssaccent[k]) \n",
    "            else:\n",
    "                break\n",
    "    # return le mot le plus long de la liste motsPossibles.\n",
    "    return max(motsPossibles, key=len)\n"
   ]
  },
  {
   "cell_type": "markdown",
   "id": "c44954de",
   "metadata": {},
   "source": [
    "Saisie des lettres et ajout de celle-ci dans la liste tirage avec contrôle de saisie"
   ]
  },
  {
   "cell_type": "code",
   "execution_count": null,
   "id": "82167dfa",
   "metadata": {
    "scrolled": false
   },
   "outputs": [],
   "source": [
    "tirage = []\n",
    "k = 1\n",
    "nbLettres = demandeNombreDeLettres(\"Combien de lettres souhaitez vous saisir ? \")\n",
    "# Boucle pour la saisie des lettres avec contrôle de saisie, les chiffres sont interdits et limite la saisie à une lettre.\n",
    "while k <= nbLettres:\n",
    "    question = demande(\"Saisissez une lettre : \")\n",
    "    regex = \"\\D\"\n",
    "    resultat = re.findall(regex, question)    \n",
    "    if len(resultat) > 0 and len(resultat) < 2:\n",
    "        tirage = tirage + resultat\n",
    "        k+=1\n",
    "    elif len(resultat) == 0:\n",
    "        print(\"Saisissez un caractère entre A et Z\")\n",
    "        \n",
    "    elif len(resultat) > 1:\n",
    "        print(\"Saisissez un caractère entre A et Z\")"
   ]
  },
  {
   "cell_type": "markdown",
   "id": "5c736304",
   "metadata": {},
   "source": [
    "Vous avez le choix d'utiliser la liste donnée dans l'exemple ou le fichier frenchssaccent.dic.\n",
    "- choix 1 = la liste donnée dans l'exemple.\n",
    "- choix 2 = le fichier frenchssaccent.dic."
   ]
  },
  {
   "cell_type": "markdown",
   "id": "5ef6781e",
   "metadata": {},
   "source": [
    "Affichage du mot le plus long pouvent être écrit avec les lettres contenues dans la liste tirage,en tenant compte du choix effectué."
   ]
  },
  {
   "cell_type": "code",
   "execution_count": null,
   "id": "7f3de745",
   "metadata": {},
   "outputs": [],
   "source": [
    "copieTirage = []\n",
    "motTest = []\n",
    "frenchssaccent = []\n",
    "motsPossibles = []\n",
    "motsPossibles.clear()\n",
    "k = 0\n",
    "choix = 0\n",
    "choix = choixOutil(\"Souhaitez vous utiliser la liste de l'exemple (choix n°1) ou le fichier frenchssaccent.dic (Choix N°2)? \")\n",
    "# Choix N°1 = utilisation de la liste donnée en exemple. \n",
    "if choix == 1:\n",
    "    frenchssaccent = ['sacre', 'sabre', 'baser', 'cabre', 'garce', 'crase', 'brase',\n",
    "'barge', 'caser', 'jaser', 'crabe', 'scare', 'aber', 'gare', 'sage', 'gars', 'rase',\n",
    "'arec', 'acre', 'jars', 'case', 'base', 'cage', 'rage', 'jase', 'bras', 'race', 'ars', 'sac',\n",
    "'arc', 'are', 'jar', 'jas', 'bar', 'bas', 'ace', 'cas', 'car', 'age', 'bac', 'cab', 'as', 'ra',\n",
    "'sa', 'a']\n",
    "    # Affichage du mot le plus long qui ce trouve dans le fichier frenchssaccent.\n",
    "    try:        \n",
    "        print(\"Le mot le plus long que nous pouvons écrire est : \", rechercheMotLePlusLong(frenchssaccent))\n",
    "    except:\n",
    "        print(\" il n'y a pas de mot contenant ces lettres!\")\n",
    "# Choix N°2 = utilisation du fichier frenchssaccent.dic.\n",
    "elif choix == 2:\n",
    "    try:\n",
    "        # Ouvertur du fichier frenchssaccent.\n",
    "        fp = ouvertureOuRechercheFichier(\"frenchssaccent.dic\") \n",
    "        # Lecture du fichier.\n",
    "        ligne = fp.read()\n",
    "        # Ajout des mots du fichier dans la liste frenchssaccent.\n",
    "        frenchssaccent = ligne.split()\n",
    "        # Affichage du mot le plus long qui ce trouve dans le fichier frenchssaccent.\n",
    "        try:\n",
    "            print(\"Le mot le plus long que nous pouvons écrire est : \", rechercheMotLePlusLong(frenchssaccent))\n",
    "        except:            \n",
    "            print(\" il n'y a pas de mot contenant ces lettres!\")\n",
    "    except:\n",
    "        # Invitation à relancer l'application aprés téléchargement du fichier frenchssaccent.dic.\n",
    "        print (\"veuillez relancer l'application\")\n",
    "fp.close()"
   ]
  }
 ],
 "metadata": {
  "kernelspec": {
   "display_name": "Python 3 (ipykernel)",
   "language": "python",
   "name": "python3"
  },
  "language_info": {
   "codemirror_mode": {
    "name": "ipython",
    "version": 3
   },
   "file_extension": ".py",
   "mimetype": "text/x-python",
   "name": "python",
   "nbconvert_exporter": "python",
   "pygments_lexer": "ipython3",
   "version": "3.11.5"
  }
 },
 "nbformat": 4,
 "nbformat_minor": 5
}
